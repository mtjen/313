{
 "cells": [
  {
   "cell_type": "code",
   "execution_count": 1,
   "id": "841908ca",
   "metadata": {},
   "outputs": [],
   "source": [
    "import math\n",
    "import matplotlib.pyplot as plot\n",
    "import pandas as pd\n",
    "import numpy as np\n",
    "from scipy import stats"
   ]
  },
  {
   "cell_type": "markdown",
   "id": "8ea0095f",
   "metadata": {},
   "source": [
    "# Creating the Data/Distribution Arrays"
   ]
  },
  {
   "cell_type": "code",
   "execution_count": 2,
   "id": "b3c2a253",
   "metadata": {},
   "outputs": [
    {
     "data": {
      "text/plain": [
       "array([0, 0, 0, 0, 1, 0, 0, 1, 1, 0, 0, 1, 0, 0, 1, 0, 1, 1, 0, 0, 1, 0,\n",
       "       0, 0, 0, 0, 0, 1, 1, 0, 0, 1, 0, 0, 0, 0, 0, 0, 0, 0, 0, 0, 0, 1,\n",
       "       1, 0, 1, 0, 0, 0, 0, 0, 0, 1, 0, 1, 0, 0, 0, 1, 1, 1, 1, 0, 0, 1,\n",
       "       0, 0, 0, 0, 1, 1, 0, 0, 0, 0, 0, 0, 1, 1, 1, 0, 1, 1, 0, 0, 1, 0,\n",
       "       0, 0, 1, 0, 0, 0, 1, 1, 1, 0, 1, 0])"
      ]
     },
     "execution_count": 2,
     "metadata": {},
     "output_type": "execute_result"
    }
   ],
   "source": [
    "# create array with bernoulli distribution\n",
    "bernoulliArray = stats.bernoulli.rvs(p = 0.3, size = 100)\n",
    "bernoulliArray"
   ]
  },
  {
   "cell_type": "code",
   "execution_count": 3,
   "id": "ff91404e",
   "metadata": {},
   "outputs": [
    {
     "data": {
      "text/plain": [
       "array([7, 4, 2, 3, 2, 5, 5, 5, 4, 1, 5, 3, 2, 2, 4, 6, 2, 4, 3, 3, 5, 4,\n",
       "       4, 5, 4, 3, 4, 5, 4, 4, 2, 0, 4, 4, 5, 3, 5, 4, 4, 4, 1, 5, 2, 1,\n",
       "       2, 4, 4, 5, 2, 1, 3, 2, 4, 1, 5, 4, 2, 4, 5, 6, 0, 5, 2, 2, 5, 6,\n",
       "       6, 3, 5, 4, 3, 5, 5, 5, 5, 7, 4, 3, 1, 4, 4, 3, 4, 4, 5, 2, 3, 6,\n",
       "       4, 6, 4, 6, 3, 1, 3, 6, 4, 5, 3, 1])"
      ]
     },
     "execution_count": 3,
     "metadata": {},
     "output_type": "execute_result"
    }
   ],
   "source": [
    "# create array with binomial distribution\n",
    "binomialArray = stats.binom.rvs(n = 10, p = 0.4, size = 100)\n",
    "binomialArray"
   ]
  },
  {
   "cell_type": "code",
   "execution_count": 4,
   "id": "a7713c41",
   "metadata": {},
   "outputs": [
    {
     "data": {
      "text/plain": [
       "array([7.66772295, 4.455266  , 3.68066963, 4.67342097, 7.17954699,\n",
       "       3.56112397, 3.54586937, 9.89441113, 6.79012948, 9.19094541,\n",
       "       4.57273271, 4.82156061, 3.73302259, 9.16732167, 5.39570923,\n",
       "       3.14631406, 3.58085838, 9.85148965, 5.02821891, 3.43169768,\n",
       "       7.84038152, 3.77488633, 4.8642644 , 3.36405683, 9.44782839,\n",
       "       6.30581704, 4.32660228, 4.80064253, 8.22386253, 4.98758129,\n",
       "       9.75404152, 7.68004268, 9.51418417, 8.32515838, 4.60156425,\n",
       "       9.46896167, 4.73796106, 7.43558703, 8.49976388, 7.14712795,\n",
       "       3.46740584, 4.41741784, 3.73811924, 6.02022424, 5.58773718,\n",
       "       4.3949746 , 5.28357187, 9.3383909 , 3.94876491, 4.23964822,\n",
       "       3.02507531, 3.04934176, 3.70438544, 3.76012261, 6.09367503,\n",
       "       7.63373657, 6.36799723, 6.53465021, 7.86756471, 7.34975   ,\n",
       "       3.94075698, 4.5445319 , 3.59781208, 3.75252993, 6.31946398,\n",
       "       6.82482116, 7.39111186, 6.04919447, 8.07497148, 9.40301651,\n",
       "       8.32708898, 5.49523639, 3.97827561, 3.84298671, 3.46798396,\n",
       "       8.26465301, 5.49148987, 5.03210413, 7.28853515, 3.50370438,\n",
       "       3.6408153 , 7.53966416, 6.61368051, 5.48239304, 6.70694095,\n",
       "       4.10820606, 9.80173566, 8.30965614, 8.66417593, 5.34491266,\n",
       "       9.29737469, 3.60869634, 8.28212331, 8.66213953, 8.96451506,\n",
       "       7.51026219, 3.89207959, 8.96473598, 8.93772844, 6.4619131 ])"
      ]
     },
     "execution_count": 4,
     "metadata": {},
     "output_type": "execute_result"
    }
   ],
   "source": [
    "# create array with uniform distribution\n",
    "uniformArray = stats.uniform.rvs(loc = 3, scale = 7, size = 100) # creates range [loc, loc + scale]\n",
    "uniformArray"
   ]
  },
  {
   "cell_type": "code",
   "execution_count": 5,
   "id": "5f50acbd",
   "metadata": {},
   "outputs": [
    {
     "data": {
      "text/plain": [
       "array([ 2.06850814, -2.06464151,  0.03619297, -0.65228913, -1.53702527,\n",
       "       -1.71893615, -4.67228741, -1.83624767, -0.53721325, -4.05632011,\n",
       "        0.30296888, -0.6173286 , -1.77869922,  1.38366081, -2.03492603,\n",
       "        0.06929593, -0.26592343, -0.57223845,  1.06933215, -1.91142946,\n",
       "       -3.03448337, -0.74329002,  0.72952825,  0.46755542, -0.63392629,\n",
       "        0.73055239,  0.82404419, -0.3471285 , -0.40694349, -3.65443258,\n",
       "       -2.36498125, -0.17997245, -2.89458412, -3.28975787, -2.28578849,\n",
       "       -0.50784462, -0.59314174,  0.04568986, -1.33972679, -4.12487501,\n",
       "       -0.86554108, -3.04197724,  1.63063115, -1.29095913,  0.28511093,\n",
       "        0.42397136,  1.76205353, -0.51336575, -0.15425529, -2.11615807,\n",
       "       -1.88329724, -1.76589891, -0.22170648, -1.67934604, -1.41988702,\n",
       "        1.92418533, -0.36536615,  1.77759847, -1.98671541, -2.59475361,\n",
       "       -2.70385753, -1.21017574, -1.05910202, -1.27481347, -0.38011415,\n",
       "       -0.41836666, -1.3194417 , -4.0126747 , -1.81215771, -0.66517362,\n",
       "       -1.26608191, -2.4274992 , -2.22603427, -0.70877364, -0.86269809,\n",
       "       -2.21385343, -0.59695038, -1.80689908, -0.23464099, -0.69476817,\n",
       "       -0.08048218, -1.61165832, -0.28833696, -3.5232175 ,  0.06470466,\n",
       "       -0.06045895, -0.91209472,  0.67450894, -1.02728938,  0.15731463,\n",
       "        0.93789682,  0.54575821, -1.07015822, -4.04396054, -0.68747184,\n",
       "       -0.73732721, -0.13507219,  0.33729518,  1.24464404,  0.02357527])"
      ]
     },
     "execution_count": 5,
     "metadata": {},
     "output_type": "execute_result"
    }
   ],
   "source": [
    "# create array with normal distribution\n",
    "normalArray = stats.norm.rvs(loc = -1, scale = math.sqrt(2), size = 100)\n",
    "normalArray"
   ]
  },
  {
   "cell_type": "code",
   "execution_count": 6,
   "id": "d4d472d7",
   "metadata": {},
   "outputs": [
    {
     "data": {
      "text/plain": [
       "array([0.62958997, 0.1575308 , 0.24778143, 0.06412013, 0.10950189,\n",
       "       0.6432063 , 1.01933979, 0.07654827, 0.19449335, 0.62427066,\n",
       "       0.10862447, 0.00318787, 1.18393299, 0.63685795, 0.71108465,\n",
       "       0.30817573, 0.98419974, 0.15744499, 0.65557956, 0.03719442,\n",
       "       0.04602755, 0.55878549, 1.049496  , 0.29041219, 0.70386079,\n",
       "       1.89113356, 0.26117378, 0.60869882, 0.30047706, 1.17266321,\n",
       "       0.1601925 , 0.15836275, 0.08731481, 0.00314502, 0.87156596,\n",
       "       0.14674971, 0.50829913, 1.25229022, 0.00807021, 0.2606399 ,\n",
       "       0.30649747, 0.46675519, 1.95973313, 0.63027525, 0.49495303,\n",
       "       0.19035344, 0.08269172, 0.20161092, 1.3720172 , 0.35960586,\n",
       "       0.35894595, 0.15727291, 0.31480084, 0.51105499, 0.03340263,\n",
       "       2.36550523, 0.6959695 , 0.63195622, 1.13841238, 0.76032583,\n",
       "       0.44042773, 0.44647544, 0.08162722, 1.7097103 , 0.07184398,\n",
       "       0.27369726, 0.02286496, 0.48780879, 0.53680903, 2.37485006,\n",
       "       0.12663709, 0.15489325, 0.14241117, 2.56628353, 1.31300211,\n",
       "       0.41008516, 0.10950667, 0.10407541, 0.12073798, 0.51684306,\n",
       "       0.87981064, 0.32037656, 1.19236676, 0.26396583, 0.91638837,\n",
       "       0.6241603 , 0.09244123, 0.18524246, 0.42719333, 0.36037845,\n",
       "       0.46466934, 0.3079169 , 0.10633969, 0.4174791 , 0.3844181 ,\n",
       "       1.80988888, 0.40396722, 0.13803482, 1.78918314, 0.44205964])"
      ]
     },
     "execution_count": 6,
     "metadata": {},
     "output_type": "execute_result"
    }
   ],
   "source": [
    "# create array with exponential distribution\n",
    "lamb = 2\n",
    "scaleVal = 1 / lamb\n",
    "exponentialArray = stats.expon.rvs(scale = scaleVal, size = 100)\n",
    "exponentialArray"
   ]
  },
  {
   "cell_type": "code",
   "execution_count": 7,
   "id": "e9776557",
   "metadata": {},
   "outputs": [
    {
     "data": {
      "text/plain": [
       "array([1.9726802 , 1.32170019, 1.85748391, 1.66555756, 1.8389935 ,\n",
       "       1.71658756, 1.25763651, 1.60667856, 1.91236437, 1.35734095,\n",
       "       1.48003013, 1.36319456, 1.88337225, 1.93942085, 1.80449487,\n",
       "       1.98446936, 1.69371716, 1.85775799, 1.7380185 , 1.32452453,\n",
       "       1.72503039, 1.33526182, 1.5810407 , 1.98228479, 1.93922703,\n",
       "       1.97828577, 1.9171575 , 1.66762033, 1.74548259, 1.95088825,\n",
       "       1.67387251, 1.59258792, 1.99904985, 1.91512951, 1.89296644,\n",
       "       1.554583  , 1.6984069 , 1.98592564, 1.66083785, 1.63951566,\n",
       "       1.86907895, 1.42193934, 1.68033268, 1.73825381, 1.9413526 ,\n",
       "       1.79044666, 1.68255855, 1.95674756, 1.89432307, 1.79094596,\n",
       "       1.779569  , 1.99352732, 1.74579838, 1.96799996, 1.94975228,\n",
       "       1.60134737, 1.63508159, 1.80228895, 1.88677019, 1.44216677,\n",
       "       1.67906355, 1.89855021, 1.68665142, 1.69273786, 1.94481563,\n",
       "       1.94261042, 1.67001366, 1.57393423, 1.78659111, 1.90622748,\n",
       "       1.88190272, 1.95615694, 1.98101046, 1.64360682, 1.56418689,\n",
       "       1.67875669, 1.89950126, 1.44228941, 1.72541985, 1.65558926,\n",
       "       1.85769035, 1.74487292, 1.78559399, 1.88638429, 1.96862247,\n",
       "       1.76984491, 1.7107541 , 1.76914707, 1.91602071, 1.90973877,\n",
       "       1.87736448, 1.26429069, 1.49215367, 1.8156859 , 1.92403239,\n",
       "       1.96728274, 1.83395383, 1.94800165, 1.87790217, 1.94607496])"
      ]
     },
     "execution_count": 7,
     "metadata": {},
     "output_type": "execute_result"
    }
   ],
   "source": [
    "# create array with power law distribution\n",
    "powerVar = stats.powerlaw(a = 3, loc = 1)\n",
    "powerArray = powerVar.rvs(100)\n",
    "powerArray"
   ]
  },
  {
   "cell_type": "code",
   "execution_count": 8,
   "id": "64b9fc64",
   "metadata": {},
   "outputs": [
    {
     "data": {
      "text/html": [
       "<div>\n",
       "<style scoped>\n",
       "    .dataframe tbody tr th:only-of-type {\n",
       "        vertical-align: middle;\n",
       "    }\n",
       "\n",
       "    .dataframe tbody tr th {\n",
       "        vertical-align: top;\n",
       "    }\n",
       "\n",
       "    .dataframe thead th {\n",
       "        text-align: right;\n",
       "    }\n",
       "</style>\n",
       "<table border=\"1\" class=\"dataframe\">\n",
       "  <thead>\n",
       "    <tr style=\"text-align: right;\">\n",
       "      <th></th>\n",
       "      <th>Bernoulli</th>\n",
       "      <th>Binomial</th>\n",
       "      <th>Uniform</th>\n",
       "      <th>Normal</th>\n",
       "      <th>Exponential</th>\n",
       "      <th>Power Law</th>\n",
       "    </tr>\n",
       "  </thead>\n",
       "  <tbody>\n",
       "    <tr>\n",
       "      <th>0</th>\n",
       "      <td>0</td>\n",
       "      <td>7</td>\n",
       "      <td>7.667723</td>\n",
       "      <td>2.068508</td>\n",
       "      <td>0.629590</td>\n",
       "      <td>1.972680</td>\n",
       "    </tr>\n",
       "    <tr>\n",
       "      <th>1</th>\n",
       "      <td>0</td>\n",
       "      <td>4</td>\n",
       "      <td>4.455266</td>\n",
       "      <td>-2.064642</td>\n",
       "      <td>0.157531</td>\n",
       "      <td>1.321700</td>\n",
       "    </tr>\n",
       "    <tr>\n",
       "      <th>2</th>\n",
       "      <td>0</td>\n",
       "      <td>2</td>\n",
       "      <td>3.680670</td>\n",
       "      <td>0.036193</td>\n",
       "      <td>0.247781</td>\n",
       "      <td>1.857484</td>\n",
       "    </tr>\n",
       "    <tr>\n",
       "      <th>3</th>\n",
       "      <td>0</td>\n",
       "      <td>3</td>\n",
       "      <td>4.673421</td>\n",
       "      <td>-0.652289</td>\n",
       "      <td>0.064120</td>\n",
       "      <td>1.665558</td>\n",
       "    </tr>\n",
       "    <tr>\n",
       "      <th>4</th>\n",
       "      <td>1</td>\n",
       "      <td>2</td>\n",
       "      <td>7.179547</td>\n",
       "      <td>-1.537025</td>\n",
       "      <td>0.109502</td>\n",
       "      <td>1.838993</td>\n",
       "    </tr>\n",
       "    <tr>\n",
       "      <th>...</th>\n",
       "      <td>...</td>\n",
       "      <td>...</td>\n",
       "      <td>...</td>\n",
       "      <td>...</td>\n",
       "      <td>...</td>\n",
       "      <td>...</td>\n",
       "    </tr>\n",
       "    <tr>\n",
       "      <th>95</th>\n",
       "      <td>1</td>\n",
       "      <td>6</td>\n",
       "      <td>7.510262</td>\n",
       "      <td>-0.737327</td>\n",
       "      <td>1.809889</td>\n",
       "      <td>1.967283</td>\n",
       "    </tr>\n",
       "    <tr>\n",
       "      <th>96</th>\n",
       "      <td>1</td>\n",
       "      <td>4</td>\n",
       "      <td>3.892080</td>\n",
       "      <td>-0.135072</td>\n",
       "      <td>0.403967</td>\n",
       "      <td>1.833954</td>\n",
       "    </tr>\n",
       "    <tr>\n",
       "      <th>97</th>\n",
       "      <td>0</td>\n",
       "      <td>5</td>\n",
       "      <td>8.964736</td>\n",
       "      <td>0.337295</td>\n",
       "      <td>0.138035</td>\n",
       "      <td>1.948002</td>\n",
       "    </tr>\n",
       "    <tr>\n",
       "      <th>98</th>\n",
       "      <td>1</td>\n",
       "      <td>3</td>\n",
       "      <td>8.937728</td>\n",
       "      <td>1.244644</td>\n",
       "      <td>1.789183</td>\n",
       "      <td>1.877902</td>\n",
       "    </tr>\n",
       "    <tr>\n",
       "      <th>99</th>\n",
       "      <td>0</td>\n",
       "      <td>1</td>\n",
       "      <td>6.461913</td>\n",
       "      <td>0.023575</td>\n",
       "      <td>0.442060</td>\n",
       "      <td>1.946075</td>\n",
       "    </tr>\n",
       "  </tbody>\n",
       "</table>\n",
       "<p>100 rows × 6 columns</p>\n",
       "</div>"
      ],
      "text/plain": [
       "    Bernoulli  Binomial   Uniform    Normal  Exponential  Power Law\n",
       "0           0         7  7.667723  2.068508     0.629590   1.972680\n",
       "1           0         4  4.455266 -2.064642     0.157531   1.321700\n",
       "2           0         2  3.680670  0.036193     0.247781   1.857484\n",
       "3           0         3  4.673421 -0.652289     0.064120   1.665558\n",
       "4           1         2  7.179547 -1.537025     0.109502   1.838993\n",
       "..        ...       ...       ...       ...          ...        ...\n",
       "95          1         6  7.510262 -0.737327     1.809889   1.967283\n",
       "96          1         4  3.892080 -0.135072     0.403967   1.833954\n",
       "97          0         5  8.964736  0.337295     0.138035   1.948002\n",
       "98          1         3  8.937728  1.244644     1.789183   1.877902\n",
       "99          0         1  6.461913  0.023575     0.442060   1.946075\n",
       "\n",
       "[100 rows x 6 columns]"
      ]
     },
     "execution_count": 8,
     "metadata": {},
     "output_type": "execute_result"
    }
   ],
   "source": [
    "distributionTypes = ['Bernoulli', 'Binomial', 'Uniform', 'Normal', 'Exponential', 'Power Law']\n",
    "distributionArrays = [bernoulliArray, binomialArray, uniformArray, normalArray, exponentialArray, powerArray]\n",
    "\n",
    "# create empty dataframe\n",
    "df = pd.DataFrame()\n",
    "\n",
    "# append arrays as new column\n",
    "for index in range(len(distributionTypes)):\n",
    "    distName = distributionTypes[index]\n",
    "    distArray = distributionArrays[index]\n",
    "    df[distName] = distArray\n",
    "    \n",
    "df"
   ]
  },
  {
   "cell_type": "markdown",
   "id": "1e29b421",
   "metadata": {},
   "source": [
    "# Part A"
   ]
  },
  {
   "cell_type": "code",
   "execution_count": 9,
   "id": "dc6cc73d",
   "metadata": {},
   "outputs": [
    {
     "data": {
      "text/html": [
       "<div>\n",
       "<style scoped>\n",
       "    .dataframe tbody tr th:only-of-type {\n",
       "        vertical-align: middle;\n",
       "    }\n",
       "\n",
       "    .dataframe tbody tr th {\n",
       "        vertical-align: top;\n",
       "    }\n",
       "\n",
       "    .dataframe thead th {\n",
       "        text-align: right;\n",
       "    }\n",
       "</style>\n",
       "<table border=\"1\" class=\"dataframe\">\n",
       "  <thead>\n",
       "    <tr style=\"text-align: right;\">\n",
       "      <th></th>\n",
       "      <th>Bernoulli</th>\n",
       "      <th>Binomial</th>\n",
       "      <th>Uniform</th>\n",
       "      <th>Normal</th>\n",
       "      <th>Exponential</th>\n",
       "      <th>Power Law</th>\n",
       "    </tr>\n",
       "  </thead>\n",
       "  <tbody>\n",
       "    <tr>\n",
       "      <th>0</th>\n",
       "      <td>0.300000</td>\n",
       "      <td>3.800000</td>\n",
       "      <td>6.063911</td>\n",
       "      <td>-1.497026</td>\n",
       "      <td>0.376638</td>\n",
       "      <td>1.650702</td>\n",
       "    </tr>\n",
       "    <tr>\n",
       "      <th>1</th>\n",
       "      <td>0.233333</td>\n",
       "      <td>3.288889</td>\n",
       "      <td>5.733427</td>\n",
       "      <td>3.757665</td>\n",
       "      <td>0.107367</td>\n",
       "      <td>0.067295</td>\n",
       "    </tr>\n",
       "  </tbody>\n",
       "</table>\n",
       "</div>"
      ],
      "text/plain": [
       "   Bernoulli  Binomial   Uniform    Normal  Exponential  Power Law\n",
       "0   0.300000  3.800000  6.063911 -1.497026     0.376638   1.650702\n",
       "1   0.233333  3.288889  5.733427  3.757665     0.107367   0.067295"
      ]
     },
     "execution_count": 9,
     "metadata": {},
     "output_type": "execute_result"
    }
   ],
   "source": [
    "sample = df.head(10)\n",
    "\n",
    "means = []\n",
    "variances = []\n",
    "\n",
    "# get values and append to appropriate arrays\n",
    "for index in range(len(distributionTypes)):\n",
    "    colName = distributionTypes[index]\n",
    "    means.append(sample[colName].mean())\n",
    "    variances.append(sample[colName].var())\n",
    "    \n",
    "meansAndVariances = pd.DataFrame()\n",
    "\n",
    "# add mean and variance values\n",
    "for index in range(len(distributionTypes)):\n",
    "    distName = distributionTypes[index]\n",
    "    meanValue = means[index]\n",
    "    varValue = variances[index]\n",
    "    values = [meanValue, varValue]\n",
    "    meansAndVariances[distName] = values\n",
    "    \n",
    "meansAndVariances"
   ]
  },
  {
   "cell_type": "code",
   "execution_count": 10,
   "id": "9225ac4c",
   "metadata": {},
   "outputs": [
    {
     "data": {
      "text/html": [
       "<div>\n",
       "<style scoped>\n",
       "    .dataframe tbody tr th:only-of-type {\n",
       "        vertical-align: middle;\n",
       "    }\n",
       "\n",
       "    .dataframe tbody tr th {\n",
       "        vertical-align: top;\n",
       "    }\n",
       "\n",
       "    .dataframe thead th {\n",
       "        text-align: right;\n",
       "    }\n",
       "</style>\n",
       "<table border=\"1\" class=\"dataframe\">\n",
       "  <thead>\n",
       "    <tr style=\"text-align: right;\">\n",
       "      <th></th>\n",
       "      <th>Bernoulli</th>\n",
       "      <th>Binomial</th>\n",
       "      <th>Uniform</th>\n",
       "      <th>Normal</th>\n",
       "      <th>Exponential</th>\n",
       "      <th>Power Law</th>\n",
       "    </tr>\n",
       "    <tr>\n",
       "      <th>Statistic Type</th>\n",
       "      <th></th>\n",
       "      <th></th>\n",
       "      <th></th>\n",
       "      <th></th>\n",
       "      <th></th>\n",
       "      <th></th>\n",
       "    </tr>\n",
       "  </thead>\n",
       "  <tbody>\n",
       "    <tr>\n",
       "      <th>Mean</th>\n",
       "      <td>0.300000</td>\n",
       "      <td>3.800000</td>\n",
       "      <td>6.063911</td>\n",
       "      <td>-1.497026</td>\n",
       "      <td>0.376638</td>\n",
       "      <td>1.650702</td>\n",
       "    </tr>\n",
       "    <tr>\n",
       "      <th>Variance</th>\n",
       "      <td>0.233333</td>\n",
       "      <td>3.288889</td>\n",
       "      <td>5.733427</td>\n",
       "      <td>3.757665</td>\n",
       "      <td>0.107367</td>\n",
       "      <td>0.067295</td>\n",
       "    </tr>\n",
       "  </tbody>\n",
       "</table>\n",
       "</div>"
      ],
      "text/plain": [
       "                Bernoulli  Binomial   Uniform    Normal  Exponential  \\\n",
       "Statistic Type                                                         \n",
       "Mean             0.300000  3.800000  6.063911 -1.497026     0.376638   \n",
       "Variance         0.233333  3.288889  5.733427  3.757665     0.107367   \n",
       "\n",
       "                Power Law  \n",
       "Statistic Type             \n",
       "Mean             1.650702  \n",
       "Variance         0.067295  "
      ]
     },
     "execution_count": 10,
     "metadata": {},
     "output_type": "execute_result"
    }
   ],
   "source": [
    "# change index values to the statistic type\n",
    "types = ['Mean', 'Variance']\n",
    "meansAndVariances['Statistic Type'] = types\n",
    "meansAndVariances = meansAndVariances.set_index('Statistic Type')\n",
    "meansAndVariances"
   ]
  },
  {
   "cell_type": "markdown",
   "id": "4742f0d2",
   "metadata": {},
   "source": [
    "# Part B - showed individual plots too before so scale makes points more clear"
   ]
  },
  {
   "cell_type": "code",
   "execution_count": 11,
   "id": "dd5c7d45",
   "metadata": {},
   "outputs": [
    {
     "data": {
      "image/png": "[encoded data removed]",
      "text/plain": [
       "<Figure size 432x288 with 1 Axes>"
      ]
     },
     "metadata": {
      "needs_background": "light"
     },
     "output_type": "display_data"
    }
   ],
   "source": [
    "plot.boxplot(bernoulliArray)\n",
    "plot.title('Box Plot for Bernoulli Distribution')\n",
    "plot.show()"
   ]
  },
  {
   "cell_type": "code",
   "execution_count": 12,
   "id": "3305eea7",
   "metadata": {},
   "outputs": [
    {
     "data": {
      "image/png": "[encoded data removed]",
      "text/plain": [
       "<Figure size 432x288 with 1 Axes>"
      ]
     },
     "metadata": {
      "needs_background": "light"
     },
     "output_type": "display_data"
    }
   ],
   "source": [
    "plot.boxplot(binomialArray)\n",
    "plot.title('Box Plot for Binomial Distribution')\n",
    "plot.show()"
   ]
  },
  {
   "cell_type": "code",
   "execution_count": 13,
   "id": "aa410a47",
   "metadata": {},
   "outputs": [
    {
     "data": {
      "image/png": "[encoded data removed]",
      "text/plain": [
       "<Figure size 432x288 with 1 Axes>"
      ]
     },
     "metadata": {
      "needs_background": "light"
     },
     "output_type": "display_data"
    }
   ],
   "source": [
    "plot.boxplot(uniformArray)\n",
    "plot.title('Box Plot for Uniform Distribution')\n",
    "plot.show()"
   ]
  },
  {
   "cell_type": "code",
   "execution_count": 14,
   "id": "bd4599ef",
   "metadata": {},
   "outputs": [
    {
     "data": {
      "image/png": "[encoded data removed]",
      "text/plain": [
       "<Figure size 432x288 with 1 Axes>"
      ]
     },
     "metadata": {
      "needs_background": "light"
     },
     "output_type": "display_data"
    }
   ],
   "source": [
    "plot.boxplot(normalArray)\n",
    "plot.title('Box Plot for Normal Distribution')\n",
    "plot.show()"
   ]
  },
  {
   "cell_type": "code",
   "execution_count": 15,
   "id": "b8d7eeca",
   "metadata": {},
   "outputs": [
    {
     "data": {
      "image/png": "[encoded data removed]",
      "text/plain": [
       "<Figure size 432x288 with 1 Axes>"
      ]
     },
     "metadata": {
      "needs_background": "light"
     },
     "output_type": "display_data"
    }
   ],
   "source": [
    "plot.boxplot(exponentialArray)\n",
    "plot.title('Box Plot for Exponential Distribution')\n",
    "plot.show()"
   ]
  },
  {
   "cell_type": "code",
   "execution_count": 16,
   "id": "7782f3e2",
   "metadata": {},
   "outputs": [
    {
     "data": {
      "image/png": "[encoded data removed]",
      "text/plain": [
       "<Figure size 432x288 with 1 Axes>"
      ]
     },
     "metadata": {
      "needs_background": "light"
     },
     "output_type": "display_data"
    }
   ],
   "source": [
    "plot.boxplot(powerArray)\n",
    "plot.title('Box Plot for Power Law Distribution')\n",
    "plot.show()"
   ]
  },
  {
   "cell_type": "code",
   "execution_count": 17,
   "id": "6081fa71",
   "metadata": {},
   "outputs": [
    {
     "data": {
      "image/png": "[encoded data removed]",
      "text/plain": [
       "<Figure size 432x288 with 1 Axes>"
      ]
     },
     "metadata": {
      "needs_background": "light"
     },
     "output_type": "display_data"
    }
   ],
   "source": [
    "fig, ax = plot.subplots()\n",
    "\n",
    "ax.boxplot(df)\n",
    "plot.title('Box Plot Order: Bernoulli, Binomial, Uniform, Normal, Exponential, Power Law')\n",
    "plot.show()"
   ]
  },
  {
   "cell_type": "markdown",
   "id": "c6ded974",
   "metadata": {},
   "source": [
    "# Part C"
   ]
  },
  {
   "cell_type": "code",
   "execution_count": 18,
   "id": "b926ff46",
   "metadata": {},
   "outputs": [
    {
     "data": {
      "image/png": "[encoded data removed]",
      "text/plain": [
       "<Figure size 432x288 with 1 Axes>"
      ]
     },
     "metadata": {
      "needs_background": "light"
     },
     "output_type": "display_data"
    }
   ],
   "source": [
    "# bernoulli distribution cdf\n",
    "count, bins_count = np.histogram(bernoulliArray, bins=100)\n",
    "  \n",
    "pdf = count / sum(count)\n",
    "cdf = np.cumsum(pdf)\n",
    "  \n",
    "plot.plot(bins_count[1:], cdf)\n",
    "plot.ylim([0, 1])\n",
    "plot.show()"
   ]
  },
  {
   "cell_type": "code",
   "execution_count": 19,
   "id": "f423a3fb",
   "metadata": {},
   "outputs": [
    {
     "data": {
      "text/plain": [
       "[<matplotlib.lines.Line2D at 0x7fede9e7ec40>]"
      ]
     },
     "execution_count": 19,
     "metadata": {},
     "output_type": "execute_result"
    },
    {
     "data": {
      "image/png": "[encoded data removed]",
      "text/plain": [
       "<Figure size 432x288 with 1 Axes>"
      ]
     },
     "metadata": {
      "needs_background": "light"
     },
     "output_type": "display_data"
    }
   ],
   "source": [
    "# binomial distribution cdf\n",
    "count, bins_count = np.histogram(binomialArray, bins=100)\n",
    "  \n",
    "pdf = count / sum(count)\n",
    "cdf = np.cumsum(pdf)\n",
    "  \n",
    "plot.plot(bins_count[1:], cdf)"
   ]
  },
  {
   "cell_type": "code",
   "execution_count": 20,
   "id": "e762a915",
   "metadata": {},
   "outputs": [
    {
     "data": {
      "text/plain": [
       "[<matplotlib.lines.Line2D at 0x7fede9f617c0>]"
      ]
     },
     "execution_count": 20,
     "metadata": {},
     "output_type": "execute_result"
    },
    {
     "data": {
      "image/png": "[encoded data removed]",
      "text/plain": [
       "<Figure size 432x288 with 1 Axes>"
      ]
     },
     "metadata": {
      "needs_background": "light"
     },
     "output_type": "display_data"
    }
   ],
   "source": [
    "# uniform distribution cdf\n",
    "count, bins_count = np.histogram(uniformArray, bins=100)\n",
    "  \n",
    "pdf = count / sum(count)\n",
    "cdf = np.cumsum(pdf)\n",
    "  \n",
    "plot.plot(bins_count[1:], cdf)"
   ]
  },
  {
   "cell_type": "code",
   "execution_count": 21,
   "id": "09098ca0",
   "metadata": {},
   "outputs": [
    {
     "data": {
      "image/png": "[encoded data removed]",
      "text/plain": [
       "<Figure size 432x288 with 1 Axes>"
      ]
     },
     "metadata": {
      "needs_background": "light"
     },
     "output_type": "display_data"
    }
   ],
   "source": [
    "# bernoulli distribution - inverse cdf\n",
    "count, bins_count = np.histogram(bernoulliArray, bins=100)\n",
    "  \n",
    "pdf = count / sum(count)\n",
    "x = np.cumsum(pdf)\n",
    "   \n",
    "y = stats.bernoulli.ppf(x, p = 0.3)\n",
    "   \n",
    "plot.plot(x, y) \n",
    "plot.show()"
   ]
  },
  {
   "cell_type": "code",
   "execution_count": 22,
   "id": "c2ded694",
   "metadata": {},
   "outputs": [
    {
     "data": {
      "image/png": "[encoded data removed]",
      "text/plain": [
       "<Figure size 432x288 with 1 Axes>"
      ]
     },
     "metadata": {
      "needs_background": "light"
     },
     "output_type": "display_data"
    }
   ],
   "source": [
    "# binomial distribution - inverse cdf\n",
    "count, bins_count = np.histogram(binomialArray, bins=100)\n",
    "  \n",
    "pdf = count / sum(count)\n",
    "x = np.cumsum(pdf)\n",
    "   \n",
    "y = stats.binom.ppf(x, n = 100, p = 0.4)\n",
    "   \n",
    "plot.plot(x, y) \n",
    "plot.show()"
   ]
  },
  {
   "cell_type": "code",
   "execution_count": 23,
   "id": "52eacd22",
   "metadata": {},
   "outputs": [
    {
     "data": {
      "image/png": "[encoded data removed]",
      "text/plain": [
       "<Figure size 432x288 with 1 Axes>"
      ]
     },
     "metadata": {
      "needs_background": "light"
     },
     "output_type": "display_data"
    }
   ],
   "source": [
    "# uniform distribution - inverse cdf\n",
    "count, bins_count = np.histogram(uniformArray, bins=100)\n",
    "  \n",
    "pdf = count / sum(count)\n",
    "x = np.cumsum(pdf)\n",
    "   \n",
    "y = stats.uniform.ppf(q = x, loc = 3, scale = 7)\n",
    "   \n",
    "plot.plot(x, y) \n",
    "plot.show()"
   ]
  },
  {
   "cell_type": "markdown",
   "id": "cd6441c3",
   "metadata": {},
   "source": [
    "# Part D"
   ]
  },
  {
   "cell_type": "code",
   "execution_count": 24,
   "id": "fc40b878",
   "metadata": {},
   "outputs": [
    {
     "data": {
      "image/png": "[encoded data removed]",
      "text/plain": [
       "<Figure size 432x288 with 1 Axes>"
      ]
     },
     "metadata": {
      "needs_background": "light"
     },
     "output_type": "display_data"
    }
   ],
   "source": [
    "# normal distribution\n",
    "plot.hist(normalArray)\n",
    "plot.title('Histogram for Normal Distribution')\n",
    "plot.show()"
   ]
  },
  {
   "cell_type": "code",
   "execution_count": 25,
   "id": "1a67ff98",
   "metadata": {},
   "outputs": [
    {
     "data": {
      "image/png": "[encoded data removed]",
      "text/plain": [
       "<Figure size 432x288 with 1 Axes>"
      ]
     },
     "metadata": {
      "needs_background": "light"
     },
     "output_type": "display_data"
    }
   ],
   "source": [
    "# exponential distribution\n",
    "plot.hist(exponentialArray)\n",
    "plot.title('Histogram for Exponential Distribution')\n",
    "plot.show()"
   ]
  },
  {
   "cell_type": "code",
   "execution_count": 26,
   "id": "65ea77f1",
   "metadata": {},
   "outputs": [
    {
     "data": {
      "image/png": "[encoded data removed]",
      "text/plain": [
       "<Figure size 432x288 with 1 Axes>"
      ]
     },
     "metadata": {
      "needs_background": "light"
     },
     "output_type": "display_data"
    }
   ],
   "source": [
    "# exponential distribution\n",
    "plot.hist(powerArray)\n",
    "plot.title('Histogram for Power Law Distribution')\n",
    "plot.show()"
   ]
  },
  {
   "cell_type": "code",
   "execution_count": null,
   "id": "8c628cd8",
   "metadata": {},
   "outputs": [],
   "source": []
  },
  {
   "cell_type": "code",
   "execution_count": null,
   "id": "8deb86fd",
   "metadata": {},
   "outputs": [],
   "source": []
  }
 ],
 "metadata": {
  "kernelspec": {
   "display_name": "Python 3 (ipykernel)",
   "language": "python",
   "name": "python3"
  },
  "language_info": {
   "codemirror_mode": {
    "name": "ipython",
    "version": 3
   },
   "file_extension": ".py",
   "mimetype": "text/x-python",
   "name": "python",
   "nbconvert_exporter": "python",
   "pygments_lexer": "ipython3",
   "version": "3.8.2"
  }
 },
 "nbformat": 4,
 "nbformat_minor": 5
}
